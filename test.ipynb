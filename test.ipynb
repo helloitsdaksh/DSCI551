{
 "cells": [
  {
   "cell_type": "code",
   "execution_count": 12,
   "outputs": [
    {
     "data": {
      "text/plain": "('players',\n [['name', 'like', 'XYZ'], ['goals', '>=', '4']],\n ['playerID', 'name'],\n {'SUM': 'goals', 'AVG': 'goals'},\n None,\n 'goals',\n True)"
     },
     "execution_count": 12,
     "metadata": {},
     "output_type": "execute_result"
    }
   ],
   "source": [
    "import re\n",
    "def input_search_query( query_str):\n",
    "    query_str = query_str.strip()\n",
    "    # Define regular expressions for extracting information\n",
    "    search_pattern = re.compile(r\"search\\s*table\\s*(\\w+)(?:\\s*,\\s*where\\s*([^,]+))?(?:\\s*,\\s*columns\\s*=\\s*\\[([^\\]]+)\\])?(?:\\s*,\\s*agg\\s*=\\s*\\[([^\\]]+)\\])?(?:\\s*,\\s*group_by\\s*=\\s*(\\w+))?(?:\\s*,\\s*sort_by\\s*=\\s*(\\w+))?(?:\\s*,\\s*ascending\\s*=\\s*(\\w+))?\")\n",
    "    # Extract information using regular expressions\n",
    "    search_match = search_pattern.search(str(query_str))#query_str)\n",
    "\n",
    "    # Initialize variables with default values\n",
    "    table = None\n",
    "    conditions = None\n",
    "    columns = None\n",
    "    aggregation = None\n",
    "    sort_by = None\n",
    "    ascending = None\n",
    "    group_by = None\n",
    "\n",
    "    # Assign values if matches are found\n",
    "    # Assign values if matches are found\n",
    "    if search_match:\n",
    "        table, conditions_str, columns_str, agg_str, group_by, sort_by, ascending_str= search_match.groups()\n",
    "\n",
    "        # Extract conditions if present\n",
    "        if conditions_str:\n",
    "            conditions = [condition.strip() for condition in conditions_str.split('and')]\n",
    "\n",
    "        # Extract columns if present\n",
    "        if columns_str:\n",
    "            columns = [column.strip() for column in columns_str.split(',')]\n",
    "\n",
    "        if agg_str:\n",
    "            pattern = re.compile(r'(\\w+)\\((\\w+)\\)')\n",
    "            matches = re.findall(pattern, agg_str)\n",
    "            aggregation  = {agg: col for agg, col in matches}\n",
    "        # Extract aggregation if present\n",
    "        # Convert ascending to boolean\n",
    "        ascending = True if ascending_str and ascending_str.lower() == 'true' else False\n",
    "\n",
    "    if not table:\n",
    "        print(\"Invalid query format. Please follow the example below:\")\n",
    "        print(\n",
    "            \"Example Query: search table players, where name like XYZ and goals >= 4, columns = [playerID, name], agg=[SUM(goals), AVG(goals)], sort_by = goals, ascending = True\"\n",
    "            )\n",
    "        return\n",
    "    final_conditions = []\n",
    "    if conditions!=None:\n",
    "        for condition in conditions:\n",
    "            final_conditions.append(condition.split(\" \"))\n",
    "    # Perform the search\n",
    "    return (table, final_conditions, columns, aggregation, group_by, sort_by, ascending)\n",
    "\n",
    "input_search_query(\"search table players, where name like XYZ and goals >= 4, columns = [playerID, name], agg=[SUM(goals), AVG(goals)], group_by=goals,  sort_by = goals, ascending = True\")"
   ],
   "metadata": {
    "collapsed": false,
    "ExecuteTime": {
     "end_time": "2023-11-18T01:31:42.669771Z",
     "start_time": "2023-11-18T01:31:42.665255Z"
    }
   },
   "id": "8671bcd0c56874a9"
  },
  {
   "cell_type": "code",
   "execution_count": null,
   "outputs": [],
   "source": [],
   "metadata": {
    "collapsed": false
   },
   "id": "e353ffdd4783cbba"
  }
 ],
 "metadata": {
  "kernelspec": {
   "display_name": "Python 3",
   "language": "python",
   "name": "python3"
  },
  "language_info": {
   "codemirror_mode": {
    "name": "ipython",
    "version": 2
   },
   "file_extension": ".py",
   "mimetype": "text/x-python",
   "name": "python",
   "nbconvert_exporter": "python",
   "pygments_lexer": "ipython2",
   "version": "2.7.6"
  }
 },
 "nbformat": 4,
 "nbformat_minor": 5
}
